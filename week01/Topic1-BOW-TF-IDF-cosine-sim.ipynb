{
  "nbformat": 4,
  "nbformat_minor": 0,
  "metadata": {
    "colab": {
      "provenance": []
    },
    "kernelspec": {
      "name": "python3",
      "display_name": "Python 3"
    },
    "language_info": {
      "name": "python"
    }
  },
  "cells": [
    {
      "cell_type": "code",
      "source": [
        "from collections import defaultdict # specialized dictionary\n",
        "import string  # functions for working with strings\n",
        "\n",
        "# Define your own text corpus, like below\n",
        "corpus = [\n",
        "    \"The Gen AI and LLM class is amazing and fun. I love it already!\",\n",
        "    \"LLMs are fun and powerful.\",\n",
        "    \"Learning about artificial intelligence is super useful for my career!\",\n",
        "]\n"
      ],
      "metadata": {
        "id": "H3rzSxNqCE7-"
      },
      "execution_count": 2,
      "outputs": []
    },
    {
      "cell_type": "code",
      "execution_count": 3,
      "metadata": {
        "colab": {
          "base_uri": "https://localhost:8080/"
        },
        "id": "KkzIq7-WkcgX",
        "outputId": "4abb7642-7b2f-48f7-feef-a563d7c755ac"
      },
      "outputs": [
        {
          "output_type": "stream",
          "name": "stdout",
          "text": [
            "[['the', 'gen', 'ai', 'and', 'llm', 'class', 'is', 'amazing', 'and', 'fun', 'i', 'love', 'it', 'already'], ['llms', 'are', 'fun', 'and', 'powerful'], ['learning', 'about', 'artificial', 'intelligence', 'is', 'super', 'useful', 'for', 'my', 'career']]\n"
          ]
        }
      ],
      "source": [
        "\n",
        "def preprocess(text):\n",
        "    text = text.lower()   # Convert to lowercase\n",
        "    text = text.translate(str.maketrans(\"\", \"\", string.punctuation))\n",
        "    # creates a translation table mapping each punctuation mark to None\n",
        "    # punctuation is not needed to build our vocab and counting word freq\n",
        "    tokens = text.split() # Tokenize: here, we will split text into words: word = token\n",
        "    return tokens\n",
        "\n",
        "proc_corpus = [preprocess(sent) for sent in corpus]\n",
        "print(proc_corpus)"
      ]
    },
    {
      "cell_type": "code",
      "source": [
        "# Build vocabulary\n",
        "# Initialize an empty set for the vocab\n",
        "vocab = set()\n",
        "\n",
        "# Build the vocab\n",
        "for sent in proc_corpus:\n",
        "    vocab.update(sent)\n",
        "\n",
        "# Convert to a sorted list\n",
        "vocab = sorted(list(vocab))\n",
        "print(\"Vocab:\", vocab)\n",
        "print(\"Vocab length is\", len(vocab))"
      ],
      "metadata": {
        "colab": {
          "base_uri": "https://localhost:8080/"
        },
        "id": "x73mEYVFlQXE",
        "outputId": "60c7110c-63e6-40b2-83d7-e20e4f6630ce"
      },
      "execution_count": 4,
      "outputs": [
        {
          "output_type": "stream",
          "name": "stdout",
          "text": [
            "Vocab: ['about', 'ai', 'already', 'amazing', 'and', 'are', 'artificial', 'career', 'class', 'for', 'fun', 'gen', 'i', 'intelligence', 'is', 'it', 'learning', 'llm', 'llms', 'love', 'my', 'powerful', 'super', 'the', 'useful']\n",
            "Vocab length is 25\n"
          ]
        }
      ]
    },
    {
      "cell_type": "code",
      "source": [
        "# Calculate Word Frequencies and Vectorize\n",
        "def create_bow(sentence, vocab):\n",
        "    vector = [0] * len(vocab)  # Initialize a vector of zeros\n",
        "    for word in sentence:\n",
        "        if word in vocab:\n",
        "            idx = vocab.index(word)  # Find index of word in  vocab\n",
        "            vector[idx] += 1  # Increment count at index\n",
        "    return vector\n",
        "\n",
        "# Create BOW vector for each sentence in processed corpus\n",
        "bow_vectors = [create_bow(sent, vocab) for sent in proc_corpus]\n",
        "print(\"BOW Vectors:\")\n",
        "for vector in bow_vectors:\n",
        "    print(vector)\n",
        "print(\"Vector length is\", len(vector))"
      ],
      "metadata": {
        "colab": {
          "base_uri": "https://localhost:8080/"
        },
        "id": "aMekvaEZlScU",
        "outputId": "df3308b7-6b0c-403d-8e9c-9750d2ffc902"
      },
      "execution_count": 5,
      "outputs": [
        {
          "output_type": "stream",
          "name": "stdout",
          "text": [
            "BOW Vectors:\n",
            "[0, 1, 1, 1, 2, 0, 0, 0, 1, 0, 1, 1, 1, 0, 1, 1, 0, 1, 0, 1, 0, 0, 0, 1, 0]\n",
            "[0, 0, 0, 0, 1, 1, 0, 0, 0, 0, 1, 0, 0, 0, 0, 0, 0, 0, 1, 0, 0, 1, 0, 0, 0]\n",
            "[1, 0, 0, 0, 0, 0, 1, 1, 0, 1, 0, 0, 0, 1, 1, 0, 1, 0, 0, 0, 1, 0, 1, 0, 1]\n",
            "Vector length is 25\n"
          ]
        }
      ]
    },
    {
      "cell_type": "code",
      "source": [
        "from sklearn.feature_extraction.text import CountVectorizer\n",
        "vectorizer = CountVectorizer()\n",
        "X = vectorizer.fit_transform(corpus)\n",
        "print(\"Vocabulary:\", vectorizer.get_feature_names_out())\n",
        "print(\"BoW Representation:\")\n",
        "print(X.toarray())\n",
        "print(\"Vector length is\", len(X.toarray()[0]))"
      ],
      "metadata": {
        "id": "L956BciRX7_-",
        "outputId": "78a8d0bc-f543-48ea-c36d-bda7fab23f4a",
        "colab": {
          "base_uri": "https://localhost:8080/"
        }
      },
      "execution_count": 6,
      "outputs": [
        {
          "output_type": "stream",
          "name": "stdout",
          "text": [
            "Vocabulary: ['about' 'ai' 'already' 'amazing' 'and' 'are' 'artificial' 'career'\n",
            " 'class' 'for' 'fun' 'gen' 'intelligence' 'is' 'it' 'learning' 'llm'\n",
            " 'llms' 'love' 'my' 'powerful' 'super' 'the' 'useful']\n",
            "BoW Representation:\n",
            "[[0 1 1 1 2 0 0 0 1 0 1 1 0 1 1 0 1 0 1 0 0 0 1 0]\n",
            " [0 0 0 0 1 1 0 0 0 0 1 0 0 0 0 0 0 1 0 0 1 0 0 0]\n",
            " [1 0 0 0 0 0 1 1 0 1 0 0 1 1 0 1 0 0 0 1 0 1 0 1]]\n",
            "Vector length is 24\n"
          ]
        }
      ]
    },
    {
      "cell_type": "code",
      "source": [
        "# Compare vocabularies\n",
        "vocab_manual = set(vocab)\n",
        "vocab_sklearn = set(vectorizer.get_feature_names_out())\n",
        "\n",
        "missing_in_sklearn = list(vocab_manual - vocab_sklearn)\n",
        "\n",
        "print(\"Tokens present in the manual vocabulary but missing in the scikit-learn vocabulary:\")\n",
        "print(missing_in_sklearn)"
      ],
      "metadata": {
        "colab": {
          "base_uri": "https://localhost:8080/"
        },
        "id": "vi35NT_qoyLq",
        "outputId": "167800a6-f82b-4003-efdb-71ffdf9bdfbb"
      },
      "execution_count": 7,
      "outputs": [
        {
          "output_type": "stream",
          "name": "stdout",
          "text": [
            "Tokens present in the manual vocabulary but missing in the scikit-learn vocabulary:\n",
            "['i']\n"
          ]
        }
      ]
    },
    {
      "cell_type": "code",
      "source": [
        "from sklearn.feature_extraction.text import TfidfVectorizer\n",
        "tfidf_vectorizer = TfidfVectorizer()\n",
        "X_tfidf = tfidf_vectorizer.fit_transform(corpus)\n",
        "print(\"Vocabulary:\", tfidf_vectorizer.get_feature_names_out())\n",
        "print(\"TF-IDF Representation:\")\n",
        "print(X_tfidf.toarray())"
      ],
      "metadata": {
        "colab": {
          "base_uri": "https://localhost:8080/"
        },
        "id": "JmGvVxrRXJk_",
        "outputId": "827af2af-743c-411d-89dc-862a01f833d5"
      },
      "execution_count": 8,
      "outputs": [
        {
          "output_type": "stream",
          "name": "stdout",
          "text": [
            "Vocabulary: ['about' 'ai' 'already' 'amazing' 'and' 'are' 'artificial' 'career'\n",
            " 'class' 'for' 'fun' 'gen' 'intelligence' 'is' 'it' 'learning' 'llm'\n",
            " 'llms' 'love' 'my' 'powerful' 'super' 'the' 'useful']\n",
            "TF-IDF Representation:\n",
            "[[0.         0.28317823 0.28317823 0.28317823 0.43072869 0.\n",
            "  0.         0.         0.28317823 0.         0.21536434 0.28317823\n",
            "  0.         0.21536434 0.28317823 0.         0.28317823 0.\n",
            "  0.28317823 0.         0.         0.         0.28317823 0.        ]\n",
            " [0.         0.         0.         0.         0.37302199 0.49047908\n",
            "  0.         0.         0.         0.         0.37302199 0.\n",
            "  0.         0.         0.         0.         0.         0.49047908\n",
            "  0.         0.         0.49047908 0.         0.         0.        ]\n",
            " [0.32311233 0.         0.         0.         0.         0.\n",
            "  0.32311233 0.32311233 0.         0.32311233 0.         0.\n",
            "  0.32311233 0.24573525 0.         0.32311233 0.         0.\n",
            "  0.         0.32311233 0.         0.32311233 0.         0.32311233]]\n"
          ]
        }
      ]
    },
    {
      "cell_type": "code",
      "source": [
        "from sklearn.metrics.pairwise import cosine_similarity\n",
        "\n",
        "# Calculate cosine similarity between the BOW vectors\n",
        "cosine_sim_bow = cosine_similarity(bow_vectors)\n",
        "\n",
        "# Print the cosine similarity matrix\n",
        "print(\"Cosine Similarity Matrix (BOW):\")\n",
        "print(cosine_sim_bow)"
      ],
      "metadata": {
        "id": "7Go1QfMTXS2t",
        "colab": {
          "base_uri": "https://localhost:8080/"
        },
        "outputId": "9fa523b9-c4b6-494e-b5e5-810b411bd453"
      },
      "execution_count": 9,
      "outputs": [
        {
          "output_type": "stream",
          "name": "stdout",
          "text": [
            "Cosine Similarity Matrix (BOW):\n",
            "[[1.         0.3354102  0.07905694]\n",
            " [0.3354102  1.         0.        ]\n",
            " [0.07905694 0.         1.        ]]\n"
          ]
        }
      ]
    },
    {
      "cell_type": "code",
      "source": [
        "from sklearn.metrics.pairwise import cosine_similarity\n",
        "\n",
        "# Calculate cosine similarity between the TF-IDF vectors\n",
        "cosine_sim_tfidf = cosine_similarity(X_tfidf)\n",
        "\n",
        "# Print the cosine similarity matrix\n",
        "print(\"Cosine Similarity Matrix (TF-IDF):\")\n",
        "print(cosine_sim_tfidf)"
      ],
      "metadata": {
        "colab": {
          "base_uri": "https://localhost:8080/"
        },
        "id": "JeU3E8yAhKQT",
        "outputId": "ca1e8108-4b88-4a14-a2f6-cfe621a3ad6c"
      },
      "execution_count": 10,
      "outputs": [
        {
          "output_type": "stream",
          "name": "stdout",
          "text": [
            "Cosine Similarity Matrix (TF-IDF):\n",
            "[[1.         0.24100691 0.05292261]\n",
            " [0.24100691 1.         0.        ]\n",
            " [0.05292261 0.         1.        ]]\n"
          ]
        }
      ]
    }
  ]
}