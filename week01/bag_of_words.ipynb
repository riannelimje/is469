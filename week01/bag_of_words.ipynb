{
 "cells": [
  {
   "cell_type": "code",
   "execution_count": 1,
   "id": "63437d52",
   "metadata": {},
   "outputs": [],
   "source": [
    "from collections import defaultdict # specialised dict\n",
    "import string # functions for working with string \n",
    "\n",
    "corpus = [\n",
    "    \"I hope Gen AI with LLM class will be easy and fun to learn.\", \n",
    "    \"How to do well in Gen AI with LLM\", \n",
    "    \"What time can I go home today\"\n",
    "]"
   ]
  },
  {
   "cell_type": "code",
   "execution_count": 2,
   "id": "6dfa2df8",
   "metadata": {},
   "outputs": [
    {
     "name": "stdout",
     "output_type": "stream",
     "text": [
      "[['i', 'hope', 'gen', 'ai', 'with', 'llm', 'class', 'will', 'be', 'easy', 'and', 'fun', 'to', 'learn'], ['how', 'to', 'do', 'well', 'in', 'gen', 'ai', 'with', 'llm'], ['what', 'time', 'can', 'i', 'go', 'home', 'today']]\n"
     ]
    }
   ],
   "source": [
    "def preprocess(text):\n",
    "  text = text.lower() # convert to lowercase\n",
    "  text = text.translate(str.maketrans(\"\", \"\", string.punctuation))\n",
    "  # creates a translation table mappping each punctuation make to None\n",
    "  # punctuation is not needed to build our vocab and counting word freq\n",
    "  tokens = text.split() # tokenize: here, split text into words: word = token\n",
    "  return tokens\n",
    "\n",
    "proc_corpus = [preprocess(sent) for sent in corpus]\n",
    "print(proc_corpus)"
   ]
  },
  {
   "cell_type": "code",
   "execution_count": 3,
   "id": "4afa5898",
   "metadata": {},
   "outputs": [
    {
     "name": "stdout",
     "output_type": "stream",
     "text": [
      "Vocab: ['ai', 'and', 'be', 'can', 'class', 'do', 'easy', 'fun', 'gen', 'go', 'home', 'hope', 'how', 'i', 'in', 'learn', 'llm', 'time', 'to', 'today', 'well', 'what', 'will', 'with']\n",
      "Vocab length is 24\n"
     ]
    }
   ],
   "source": [
    "# build vocabulary \n",
    "# initialise an empty set for the vocab \n",
    "vocab = set() \n",
    "\n",
    "# build the vocab \n",
    "for sent in proc_corpus:\n",
    "  vocab.update(sent)\n",
    "\n",
    "# convert to a sorted list \n",
    "vocab = sorted(list(vocab))\n",
    "print(\"Vocab:\", vocab)\n",
    "print(\"Vocab length is\", len(vocab))"
   ]
  },
  {
   "cell_type": "code",
   "execution_count": 4,
   "id": "1315ca19",
   "metadata": {},
   "outputs": [
    {
     "name": "stdout",
     "output_type": "stream",
     "text": [
      "BOW Vectors:\n",
      "[1, 1, 1, 0, 1, 0, 1, 1, 1, 0, 0, 1, 0, 1, 0, 1, 1, 0, 1, 0, 0, 0, 1, 1]\n",
      "[1, 0, 0, 0, 0, 1, 0, 0, 1, 0, 0, 0, 1, 0, 1, 0, 1, 0, 1, 0, 1, 0, 0, 1]\n",
      "[0, 0, 0, 1, 0, 0, 0, 0, 0, 1, 1, 0, 0, 1, 0, 0, 0, 1, 0, 1, 0, 1, 0, 0]\n",
      "Vector length in 24\n"
     ]
    }
   ],
   "source": [
    "# calculate word frequencies and vectorise\n",
    "def create_bow(sentence, vocab):\n",
    "  vector = [0] * len(vocab) # initialise a vector of zeros\n",
    "  for word in sentence:\n",
    "    if word in vocab:\n",
    "      idx = vocab.index(word) # find index of word in vocab\n",
    "      vector[idx] += 1 # increment count at index \n",
    "  return vector \n",
    "\n",
    "# Create BOW vector for each sentence in processed corpus\n",
    "bow_vectors = [create_bow(sent, vocab) for sent in proc_corpus]\n",
    "print(\"BOW Vectors:\")\n",
    "for vector in bow_vectors:\n",
    "  print(vector)\n",
    "print(f\"Vector length in {len(vector)}\") # same length since same vocab "
   ]
  },
  {
   "cell_type": "code",
   "execution_count": 5,
   "id": "6252e876",
   "metadata": {},
   "outputs": [
    {
     "name": "stdout",
     "output_type": "stream",
     "text": [
      "Cosine Similarity Matrix (BOW):\n",
      "[[1.         0.4454354  0.10101525]\n",
      " [0.4454354  1.         0.        ]\n",
      " [0.10101525 0.         1.        ]]\n"
     ]
    }
   ],
   "source": [
    "from sklearn.metrics.pairwise import cosine_similarity\n",
    "# calculate cosine similarity between the BOW vectors\n",
    "cosine_sim_bow = cosine_similarity(bow_vectors)\n",
    "\n",
    "# print the cosine similarity matrix \n",
    "print(\"Cosine Similarity Matrix (BOW):\")\n",
    "print(cosine_sim_bow)"
   ]
  },
  {
   "cell_type": "code",
   "execution_count": 6,
   "id": "c0d2d850",
   "metadata": {},
   "outputs": [
    {
     "name": "stdout",
     "output_type": "stream",
     "text": [
      "Vocabulary: ['ai' 'and' 'be' 'can' 'class' 'do' 'easy' 'fun' 'gen' 'go' 'home' 'hope'\n",
      " 'how' 'in' 'learn' 'llm' 'time' 'to' 'today' 'well' 'what' 'will' 'with']\n",
      "TF-IDF Representation:\n",
      "[[0.23044123 0.30300252 0.30300252 0.         0.30300252 0.\n",
      "  0.30300252 0.30300252 0.23044123 0.         0.         0.30300252\n",
      "  0.         0.         0.30300252 0.23044123 0.         0.23044123\n",
      "  0.         0.         0.         0.30300252 0.23044123]\n",
      " [0.28969526 0.         0.         0.         0.         0.38091445\n",
      "  0.         0.         0.28969526 0.         0.         0.\n",
      "  0.38091445 0.38091445 0.         0.28969526 0.         0.28969526\n",
      "  0.         0.38091445 0.         0.         0.28969526]\n",
      " [0.         0.         0.         0.40824829 0.         0.\n",
      "  0.         0.         0.         0.40824829 0.40824829 0.\n",
      "  0.         0.         0.         0.         0.40824829 0.\n",
      "  0.40824829 0.         0.40824829 0.         0.        ]]\n"
     ]
    }
   ],
   "source": [
    "from sklearn.feature_extraction.text import TfidfVectorizer\n",
    "tfidf_vectorizer = TfidfVectorizer()\n",
    "X_tfidf = tfidf_vectorizer.fit_transform(corpus)\n",
    "print(\"Vocabulary:\", tfidf_vectorizer.get_feature_names_out())\n",
    "print(\"TF-IDF Representation:\")\n",
    "print(X_tfidf.toarray())"
   ]
  },
  {
   "cell_type": "code",
   "execution_count": 7,
   "id": "79d55e77",
   "metadata": {},
   "outputs": [
    {
     "name": "stdout",
     "output_type": "stream",
     "text": [
      "Cosine Similarity Matrix (TF-IDF):\n",
      "[[1.         0.33378865 0.        ]\n",
      " [0.33378865 1.         0.        ]\n",
      " [0.         0.         1.        ]]\n"
     ]
    }
   ],
   "source": [
    "from sklearn.metrics.pairwise import cosine_similarity\n",
    "\n",
    "# calculate cosine similarity between TF-IDF vectors\n",
    "cosine_sim_tfidf = cosine_similarity(X_tfidf)\n",
    "\n",
    "# print the cosine similarity matrix \n",
    "print(\"Cosine Similarity Matrix (TF-IDF):\")\n",
    "print(cosine_sim_tfidf)"
   ]
  }
 ],
 "metadata": {
  "kernelspec": {
   "display_name": "base",
   "language": "python",
   "name": "python3"
  },
  "language_info": {
   "codemirror_mode": {
    "name": "ipython",
    "version": 3
   },
   "file_extension": ".py",
   "mimetype": "text/x-python",
   "name": "python",
   "nbconvert_exporter": "python",
   "pygments_lexer": "ipython3",
   "version": "3.11.5"
  }
 },
 "nbformat": 4,
 "nbformat_minor": 5
}
