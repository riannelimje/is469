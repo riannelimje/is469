{
 "cells": [
  {
   "cell_type": "code",
   "execution_count": null,
   "id": "60f0ddb3",
   "metadata": {},
   "outputs": [],
   "source": [
    "from transformers import AutoModelForCausalLM, AutoTokenizer"
   ]
  },
  {
   "cell_type": "code",
   "execution_count": null,
   "id": "2c0d3713",
   "metadata": {},
   "outputs": [],
   "source": [
    "model_name = \"distilgpt2\"\n",
    "tokenizer = AutoTokenizer.from_pretrained(model_name)\n",
    "model = AutoModelForCausalLM.from_pretrained(model_name)"
   ]
  },
  {
   "cell_type": "code",
   "execution_count": null,
   "id": "c35992d6",
   "metadata": {},
   "outputs": [],
   "source": [
    "prompt = \"what time should I\""
   ]
  },
  {
   "cell_type": "code",
   "execution_count": null,
   "id": "415451d2",
   "metadata": {},
   "outputs": [],
   "source": [
    "input_ids = tokenizer.encode(prompt, return_tensors=\"pt\")"
   ]
  },
  {
   "cell_type": "code",
   "execution_count": null,
   "id": "a91d266c",
   "metadata": {},
   "outputs": [],
   "source": [
    "# A lower temperature (e.g., 0.7) makes the output more deterministic\n",
    "# A higher temperature (e.g., 1.0 or higher) makes the output more random\n",
    "\n",
    "output = model.generate(\n",
    "    input_ids, \n",
    "    max_length=50,\n",
    "    num_return_sequences=1,\n",
    "    temperature=10.0,\n",
    "    do_sample=True, # sampling is enabled for temperature to have effect\n",
    ")"
   ]
  },
  {
   "cell_type": "code",
   "execution_count": null,
   "id": "22c3823a",
   "metadata": {},
   "outputs": [],
   "source": [
    "generated_text = tokenizer.decode(output[0], skip_special_tokens=True)\n",
    "print(generated_text)"
   ]
  }
 ],
 "metadata": {
  "kernelspec": {
   "display_name": "base",
   "language": "python",
   "name": "python3"
  },
  "language_info": {
   "codemirror_mode": {
    "name": "ipython",
    "version": 3
   },
   "file_extension": ".py",
   "mimetype": "text/x-python",
   "name": "python",
   "nbconvert_exporter": "python",
   "pygments_lexer": "ipython3",
   "version": "3.11.5"
  }
 },
 "nbformat": 4,
 "nbformat_minor": 5
}
