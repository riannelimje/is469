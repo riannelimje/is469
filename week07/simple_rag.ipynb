{
 "cells": [
  {
   "cell_type": "code",
   "execution_count": null,
   "id": "7cfefff1",
   "metadata": {},
   "outputs": [],
   "source": [
    "prompt = \"What is the best temperature for matcha\""
   ]
  },
  {
   "cell_type": "code",
   "execution_count": null,
   "id": "c06b1783",
   "metadata": {},
   "outputs": [],
   "source": [
    "documents = [\"Use 70–80°C water and whisk briskly in an M-shape for 15–20 seconds to create fine foam and minimize bitterness\",\n",
    "             \"Sift 1–2 g matcha, add ~60–70 ml at ~75°C, then whisk rapidly until microfoam forms and no clumps remain\",\n",
    "             \"Use boiling water to fully extract flavor, then stir slowly to avoid bubbles.\",\n",
    "             \"Use any whisk; forks work as well as chasen if whisked gently.\",\n",
    "             \"GPU tensor cores speed up attention by enabling mixed precision matmul\"\n",
    "             ]"
   ]
  },
  {
   "cell_type": "code",
   "execution_count": null,
   "id": "13fdd391",
   "metadata": {},
   "outputs": [],
   "source": [
    "!pip install sentence_transformers\n",
    "from sentence_transformers import SentenceTransformer\n",
    "model = SentenceTransformer('sentence-transformers/all-MiniLM-L6-v2')\n",
    "prompt_embed = model.encode(prompt)"
   ]
  },
  {
   "cell_type": "code",
   "execution_count": null,
   "id": "04ed1fc1",
   "metadata": {},
   "outputs": [],
   "source": [
    "doc_embed = model.encode(documents)\n",
    "len(doc_embed[0])"
   ]
  },
  {
   "cell_type": "code",
   "execution_count": null,
   "id": "920bde1c",
   "metadata": {},
   "outputs": [],
   "source": [
    "import numpy as np\n",
    "from sklearn.metrics.pairwise import cosine_similarity"
   ]
  },
  {
   "cell_type": "code",
   "execution_count": null,
   "id": "157dee59",
   "metadata": {},
   "outputs": [],
   "source": [
    "sim = cosine_similarity(np.array([prompt_embed]), doc_embed)\n",
    "top_index = np.argmax(sim)\n",
    "top_doc = documents[top_index]\n",
    "print(f\"Prompt : {prompt}\")\n",
    "print(f\"Top Document : {top_doc}\")"
   ]
  },
  {
   "cell_type": "code",
   "execution_count": null,
   "id": "cdcf28d0",
   "metadata": {},
   "outputs": [],
   "source": [
    "sorted = np.argsort(sim[0][::-1])\n",
    "\n",
    "ranking = [(documents[i], sim[0][i]) for i in sorted]\n",
    "ranking"
   ]
  },
  {
   "cell_type": "markdown",
   "id": "eee3ef9d",
   "metadata": {},
   "source": [
    ":NOW LET'S LOOK AT USING CROSS_ENCODER TO IMPROVE RAG VIA RE-RANKING\n",
    "https://www.sbert.net/examples/applications/cross-encoder/README.html\n"
   ]
  },
  {
   "cell_type": "code",
   "execution_count": null,
   "id": "05627701",
   "metadata": {},
   "outputs": [],
   "source": [
    "from sentence_transformers import CrossEncoder\n",
    "# cross_encoder = CrossEncoder('cross-encoder/ms-marco-MiniLM-L-6-v2')\n",
    "cross_encoder = CrossEncoder('cross-encoder/mmarco-mMiniLMv2-L12-H384-v1')"
   ]
  },
  {
   "cell_type": "code",
   "execution_count": null,
   "id": "2e9003a4",
   "metadata": {},
   "outputs": [],
   "source": [
    "pairs = []\n",
    "for doc in documents:\n",
    "  pairs.append([prompt, doc])"
   ]
  },
  {
   "cell_type": "code",
   "execution_count": null,
   "id": "45bf70d5",
   "metadata": {},
   "outputs": [],
   "source": [
    "scores = cross_encoder.predict(pairs)\n",
    "\n",
    "print(f\"Prompt {prompt}\\n\")\n",
    "for doc, score in zip(documents, scores):\n",
    "  print(f\"Document: {doc} \\nScore: {score}\\n\")"
   ]
  },
  {
   "cell_type": "code",
   "execution_count": null,
   "id": "5dca6e4a",
   "metadata": {},
   "outputs": [],
   "source": [
    "top_index_cross = np.argmax(scores)\n",
    "top_doc_cross = documents[top_index_cross]\n",
    "print(f\"Prompt : {prompt}\")\n",
    "print(f\"Top Document : {top_doc_cross}\")"
   ]
  },
  {
   "cell_type": "code",
   "execution_count": null,
   "id": "c0129546",
   "metadata": {},
   "outputs": [],
   "source": [
    "!pip install cohere"
   ]
  },
  {
   "cell_type": "code",
   "execution_count": null,
   "id": "90f14c81",
   "metadata": {},
   "outputs": [],
   "source": [
    "import cohere\n",
    "co = cohere.Client(\"API_KEY\")\n",
    "\n",
    "response = co.rerank(\n",
    "    model=\"rerank-english-v3.0\",\n",
    "    query=prompt,\n",
    "    documents=documents,\n",
    "    return_documents=True\n",
    ")\n",
    "\n",
    "print(response)"
   ]
  }
 ],
 "metadata": {
  "language_info": {
   "name": "python"
  }
 },
 "nbformat": 4,
 "nbformat_minor": 5
}
